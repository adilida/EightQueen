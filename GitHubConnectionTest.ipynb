{
  "nbformat": 4,
  "nbformat_minor": 0,
  "metadata": {
    "colab": {
      "name": "GitHubConnectionTest.ipynb",
      "provenance": [],
      "collapsed_sections": [],
      "authorship_tag": "ABX9TyN6W8hihXSij4n1Aud+SbfX",
      "include_colab_link": true
    },
    "kernelspec": {
      "name": "python3",
      "display_name": "Python 3"
    }
  },
  "cells": [
    {
      "cell_type": "markdown",
      "metadata": {
        "id": "view-in-github",
        "colab_type": "text"
      },
      "source": [
        "<a href=\"https://colab.research.google.com/github/adilida/EightQueen/blob/master/GitHubConnectionTest.ipynb\" target=\"_parent\"><img src=\"https://colab.research.google.com/assets/colab-badge.svg\" alt=\"Open In Colab\"/></a>"
      ]
    },
    {
      "cell_type": "code",
      "metadata": {
        "id": "AmfI4dbRirNo",
        "colab_type": "code",
        "colab": {
          "base_uri": "https://localhost:8080/",
          "height": 34
        },
        "outputId": "c3a79526-4496-4412-ca8e-e903b7ae404f"
      },
      "source": [
        "print (\"This is test to save colab_file in GitHub..\")\n",
        "var = \"Let's check it's woring after connection with Github.....\""
      ],
      "execution_count": 1,
      "outputs": [
        {
          "output_type": "stream",
          "text": [
            "This is test to save colab_file in GitHub..\n"
          ],
          "name": "stdout"
        }
      ]
    },
    {
      "cell_type": "code",
      "metadata": {
        "id": "jk2LS9iXoPrb",
        "colab_type": "code",
        "colab": {
          "base_uri": "https://localhost:8080/",
          "height": 52
        },
        "outputId": "eb5491a3-0dab-4c95-d3f9-f68f7cc98707"
      },
      "source": [
        "print(var)\n",
        "print(\"yeah, It's working......\")"
      ],
      "execution_count": 2,
      "outputs": [
        {
          "output_type": "stream",
          "text": [
            "Let's check it's woring after connection with Github\n",
            "yeah, It's working......\n"
          ],
          "name": "stdout"
        }
      ]
    }
  ]
}