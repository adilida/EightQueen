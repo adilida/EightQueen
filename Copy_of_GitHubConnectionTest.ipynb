{
  "nbformat": 4,
  "nbformat_minor": 0,
  "metadata": {
    "colab": {
      "name": "Copy of GitHubConnectionTest.ipynb",
      "provenance": [],
      "collapsed_sections": [],
      "authorship_tag": "ABX9TyNt87peQYCvO0LMJzd3lzTs",
      "include_colab_link": true
    },
    "kernelspec": {
      "name": "python3",
      "display_name": "Python 3"
    }
  },
  "cells": [
    {
      "cell_type": "markdown",
      "metadata": {
        "id": "view-in-github",
        "colab_type": "text"
      },
      "source": [
        "<a href=\"https://colab.research.google.com/github/adilida/EightQueen/blob/master/Copy_of_GitHubConnectionTest.ipynb\" target=\"_parent\"><img src=\"https://colab.research.google.com/assets/colab-badge.svg\" alt=\"Open In Colab\"/></a>"
      ]
    },
    {
      "cell_type": "markdown",
      "metadata": {
        "id": "Ps0S3VQJxNBL",
        "colab_type": "text"
      },
      "source": [
        "Class Eight Queen"
      ]
    },
    {
      "cell_type": "code",
      "metadata": {
        "id": "DJDQUsSkzKen",
        "colab_type": "code",
        "colab": {}
      },
      "source": [
        "import random\n",
        "import math\n",
        "import numpy as np\n",
        "import pandas as pd"
      ],
      "execution_count": 9,
      "outputs": []
    },
    {
      "cell_type": "code",
      "metadata": {
        "id": "siIfyM1qxU2S",
        "colab_type": "code",
        "colab": {}
      },
      "source": [
        "class EightQueen:\n",
        "  def __init__(self, targetString, mutationRate = 0.01, totalPopulation = 150, crossOver = 0.5):\n",
        "    self.target = targetString\n",
        "    self.mutationRate, self.totalPopulation, self.crossOver = mutationRate, totalPopulation, crossOver\n",
        "    self.secure_random = random.SystemRandom()\n",
        "    self.populationData = []\n",
        "    self.fitnessData = []\n",
        "    self.probabilityDist = []\n",
        "\n",
        "  def generate_init_population(self):\n",
        "    for outer in range(self.totalPopulation):\n",
        "      random_data = []\n",
        "      for inner in range(len(self.target)):\n",
        "        random_data.append(self.secure_random.choice(range(len(self.target))))\n",
        "      self.populationData.append(random_data)\n",
        "\n",
        "  def fitness_score(self):\n",
        "    self.fitnessData = []\n",
        "    for outer in range(self.totalPopulation):\n",
        "      score = self.fitness(self.populationData[outer])\n",
        "      self.fitnessData.append(score)\n",
        "\n",
        "  def fitness(self, data):\n",
        "    score = 0\n",
        "    for inner in range(len(self.target)):\n",
        "      if data[inner] == int(self.target[inner]):\n",
        "        score += 1      \n",
        "    return score\n",
        "\n",
        "  def probability_dist(self):\n",
        "    self.probabilityDist = []\n",
        "    for i in range(self.totalPopulation):\n",
        "      self.probabilityDist.append(self.fitnessData[i] / len(self.target))   \n",
        "\n",
        "  def viewElement(self, data):\n",
        "    data = ''.join([str(elem) for elem in data])\n",
        "    return data   \n",
        "\n",
        "  def create_df(self):\n",
        "    # print(len(self.populationData), len(self.fitnessData), len(self.probabilityDist))\n",
        "    probDataFrame = pd.DataFrame({'String':self.populationData,'FitnessScore':self.fitnessData,'Probability':self.probabilityDist})\n",
        "    probDataFrame = probDataFrame.sort_values(['Probability'],ascending=False)\n",
        "    probDataFrame = probDataFrame.reset_index(drop=True)\n",
        "    return probDataFrame\n",
        "  \n",
        "  def crossover_mutation(self):\n",
        "    df = self.create_df()\n",
        "    draw = []\n",
        "    draw.append(df[0:1][\"String\"].values[0])\n",
        "    draw.append(df[1:2][\"String\"].values[0])\n",
        "    crossOverPoint = int(self.crossOver * len(self.target))\n",
        "    child1 = draw[0][0:crossOverPoint] + draw[1][crossOverPoint:]\n",
        "    child2 = draw[1][0:crossOverPoint] + draw[0][crossOverPoint:]\n",
        "    child1, child2 = self.mutation(child1, child2)\n",
        "    # self.populationData.append(child1)\n",
        "    # self.populationData.append(child2)\n",
        "    return child1, child2\n",
        "\n",
        "  def mutation(self, child1, child2):\n",
        "    # mutation as per mutation percentage\n",
        "    # ones = int(self.mutationRate * 100)\n",
        "    # zeros = int(100 - ones)\n",
        "    # predict_mutration_list = []\n",
        "    # for i in range(ones):\n",
        "    #   predict_mutration_list.append(1)\n",
        "    # for i in range(zeros):\n",
        "    #   predict_mutration_list.append(0)\n",
        "    # mutate = self.secure_random.choice(predict_mutration_list)\n",
        "    # if mutate == 1:\n",
        "    #   child1[self.secure_random.choice(range(len(self.target)))] = self.secure_random.choice(range(len(self.target)))\n",
        "    #   child2[self.secure_random.choice(range(len(self.target)))] = self.secure_random.choice(range(len(self.target)))\n",
        "    for repetition in  range(math.ceil(self.mutationRate*10)):\n",
        "      child1[self.secure_random.choice(range(len(self.target)))] = self.secure_random.choice(range(len(self.target)))\n",
        "      child2[self.secure_random.choice(range(len(self.target)))] = self.secure_random.choice(range(len(self.target)))\n",
        "    return child1, child2\n",
        "\n",
        "  def main(self):\n",
        "    Generation = 0\n",
        "    self.generate_init_population()\n",
        "    while(True):\n",
        "      self.fitness_score()\n",
        "      self.probability_dist()\n",
        "      child1, child2 = self.crossover_mutation()\n",
        "      if self.fitness(child1) == len(self.target) | self.fitness(child2) == len(self.target):\n",
        "        print('Child1: ' + self.viewElement(child1) + '  ', 'Child2: ' + self.viewElement(child2))\n",
        "        break\n",
        "      self.populationData.append(child1)\n",
        "      self.populationData.append(child2)\n",
        "      self.totalPopulation += 2\n",
        "      print('Generation ' + str(Generation) + ' Target: ' + self.target + ' Child1: ' + self.viewElement(child1) + ' Child2: ' + self.viewElement(child2))\n",
        "      Generation += 1\n",
        "\n",
        "\n",
        "\n",
        "  def test(self):\n",
        "    # self.generate_init_population()\n",
        "    # print (len(self.populationData))\n",
        "    # print(self.mutationRate, self.totalPopulation, self.crossOver)\n",
        "    print(self.create_df().head())\n"
      ],
      "execution_count": 10,
      "outputs": []
    },
    {
      "cell_type": "code",
      "metadata": {
        "id": "1Y876B-64Mgz",
        "colab_type": "code",
        "colab": {
          "base_uri": "https://localhost:8080/",
          "height": 520
        },
        "outputId": "0433aa75-a520-4e25-81ca-613d029b2235"
      },
      "source": [
        "# import math\n",
        "# math.ceil(0.01)\n",
        "\n",
        "targetString = '03456124'\n",
        "eq = EightQueen(targetString, mutationRate = 0.01, totalPopulation = 150, crossOver = 0.5)\n",
        "eq.main()\n",
        "# eq.generate_init_population()\n",
        "# eq.fitness_score()\n",
        "# eq.probability_dist()\n",
        "# child1, child2 = eq.crossover_mutation()\n",
        "# print(eq.viewElement(child1), '  ', eq.viewElement(child2))\n",
        "# # df = eq.create_df()\n",
        "# # df[0:1][\"String\"].values[0]\n",
        "# # df[0:1][\"String\"].values[0]\n",
        "# # eq.test()\n",
        "# # secure_random = random.SystemRandom()\n",
        "# # print(secure_random.choice(range(8)))\n",
        "# # eq.target[4]"
      ],
      "execution_count": 17,
      "outputs": [
        {
          "output_type": "stream",
          "text": [
            "Generation 0 Target: 03456124 Child1: 53446142 Child2: 56756106\n",
            "Generation 1 Target: 03456124 Child1: 53443122 Child2: 54736106\n",
            "Generation 2 Target: 03456124 Child1: 54053122 Child2: 53446122\n",
            "Generation 3 Target: 03456124 Child1: 53442106 Child2: 53426122\n",
            "Generation 4 Target: 03456124 Child1: 53426122 Child2: 43446122\n",
            "Generation 5 Target: 03456124 Child1: 43446121 Child2: 53446162\n",
            "Generation 6 Target: 03456124 Child1: 56446121 Child2: 43446123\n",
            "Generation 7 Target: 03456124 Child1: 43446111 Child2: 42446123\n",
            "Generation 8 Target: 03456124 Child1: 43447122 Child2: 52446121\n",
            "Generation 9 Target: 03456124 Child1: 53466122 Child2: 53546122\n",
            "Generation 10 Target: 03456124 Child1: 43447122 Child2: 53456123\n",
            "Generation 11 Target: 03456124 Child1: 53416122 Child2: 53066123\n",
            "Generation 12 Target: 03456124 Child1: 53456722 Child2: 53426122\n",
            "Generation 13 Target: 03456124 Child1: 53456122 Child2: 03426123\n",
            "Generation 14 Target: 03456124 Child1: 06426122 Child2: 51456123\n",
            "Generation 15 Target: 03456124 Child1: 03420122 Child2: 03456123\n",
            "Generation 16 Target: 03456124 Child1: 03356122 Child2: 53456123\n",
            "Generation 17 Target: 03456124 Child1: 03456123 Child2: 53456124\n",
            "Generation 18 Target: 03456124 Child1: 53456121 Child2: 03456164\n",
            "Generation 19 Target: 03456124 Child1: 03456724 Child2: 53426164\n",
            "Generation 20 Target: 03456124 Child1: 03426724 Child2: 03456623\n",
            "Generation 21 Target: 03456124 Child1: 53456103 Child2: 03466124\n",
            "Generation 22 Target: 03456124 Child1: 53466724 Child2: 03456124\n",
            "Generation 23 Target: 03456124 Child1: 53456124 Child2: 03426124\n",
            "Generation 24 Target: 03456124 Child1: 06456124 Child2: 03427124\n",
            "Generation 25 Target: 03456124 Child1: 13456164 Child2: 03446124\n",
            "Generation 26 Target: 03456124 Child1: 03456424 Child2: 13446124\n",
            "Generation 27 Target: 03456124 Child1: 03456103 Child2: 03456124\n",
            "Child1: 03456124   Child2: 03456124\n"
          ],
          "name": "stdout"
        }
      ]
    }
  ]
}